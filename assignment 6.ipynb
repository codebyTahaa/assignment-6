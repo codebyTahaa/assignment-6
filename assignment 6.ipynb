{
 "cells": [
  {
   "cell_type": "code",
   "execution_count": 1,
   "id": "51762a1a",
   "metadata": {},
   "outputs": [],
   "source": [
    "#----------------------------------question1--------------------------------------------------------------\n",
    "\n",
    "\n",
    "class circle ():\n",
    "    def __init__(self,radius):\n",
    "        self.radius = radius\n",
    "        self.pi = 3.14\n",
    "    def area(self,radius,pi):\n",
    "        return pi*radius*radius\n",
    "    def perameter(self,radius,pi):\n",
    "        return 2*pi*radius\n",
    "        "
   ]
  },
  {
   "cell_type": "code",
   "execution_count": 2,
   "id": "a64536fd",
   "metadata": {},
   "outputs": [],
   "source": [
    "obj1= circle(4)"
   ]
  },
  {
   "cell_type": "code",
   "execution_count": 5,
   "id": "d957a9e0",
   "metadata": {},
   "outputs": [
    {
     "data": {
      "text/plain": [
       "50.24"
      ]
     },
     "execution_count": 5,
     "metadata": {},
     "output_type": "execute_result"
    }
   ],
   "source": [
    "obj1.area(4,3.14)"
   ]
  },
  {
   "cell_type": "code",
   "execution_count": 6,
   "id": "b2c67a42",
   "metadata": {},
   "outputs": [
    {
     "data": {
      "text/plain": [
       "25.12"
      ]
     },
     "execution_count": 6,
     "metadata": {},
     "output_type": "execute_result"
    }
   ],
   "source": [
    "obj1.perameter(4,3.14)"
   ]
  },
  {
   "cell_type": "code",
   "execution_count": 16,
   "id": "b49e2dfb",
   "metadata": {},
   "outputs": [],
   "source": [
    "#-----------------------------------question 2------------------------------------------------------------\n",
    "\n",
    "class person():\n",
    "    def __init__(self,name,country,dob,current_year):\n",
    "        self.name = name\n",
    "        self.country = country\n",
    "        self.dob = dob\n",
    "        self.current_year = current_year\n",
    "    def age (self, dob,current_year):\n",
    "        age = current_year-dob\n",
    "        print(f\"{self.name} is living in {self.country} and his/her age is {age}\")\n",
    "    \n",
    "\n"
   ]
  },
  {
   "cell_type": "code",
   "execution_count": 17,
   "id": "d9b6682b",
   "metadata": {},
   "outputs": [],
   "source": [
    "obj2 = person(\"taha\",\"pakistan\",2005,2024)"
   ]
  },
  {
   "cell_type": "code",
   "execution_count": 19,
   "id": "39e206b9",
   "metadata": {},
   "outputs": [
    {
     "name": "stdout",
     "output_type": "stream",
     "text": [
      "taha is living in pakistan and his/her age is 18\n"
     ]
    }
   ],
   "source": [
    "obj2.age(2006,2024)"
   ]
  },
  {
   "cell_type": "code",
   "execution_count": 21,
   "id": "e5d394cd",
   "metadata": {},
   "outputs": [],
   "source": [
    "#---------------------------------------question 3---------------------------------------------------------\n",
    "\n",
    "class calculator():\n",
    "    def __init__(self,num1,num2):\n",
    "        self.num1 = num1\n",
    "        self.num2 = num2\n",
    "    def add(self,num1,num2):\n",
    "        return num1 + num2\n",
    "    def subtract(self,num1,num2):\n",
    "        return num1 - num2\n",
    "    def multiply (self,num1,num2):\n",
    "        return num1 * num2\n",
    "    def divide (sel,num1,num2):\n",
    "        return num1/num2\n",
    "    \n"
   ]
  },
  {
   "cell_type": "code",
   "execution_count": 22,
   "id": "53e3511a",
   "metadata": {},
   "outputs": [],
   "source": [
    "obj3 = calculator(2,3)"
   ]
  },
  {
   "cell_type": "code",
   "execution_count": 24,
   "id": "955fcd89",
   "metadata": {},
   "outputs": [
    {
     "name": "stdout",
     "output_type": "stream",
     "text": [
      "5\n",
      "5\n",
      "20\n",
      "2.0\n"
     ]
    }
   ],
   "source": [
    "print(obj3.add(2,3))\n",
    "print(obj3.subtract(9,4))\n",
    "print(obj3.multiply(5,4))\n",
    "print(obj3.divide(10,5))"
   ]
  },
  {
   "cell_type": "code",
   "execution_count": null,
   "id": "f930ff31",
   "metadata": {},
   "outputs": [],
   "source": []
  }
 ],
 "metadata": {
  "kernelspec": {
   "display_name": "Python 3 (ipykernel)",
   "language": "python",
   "name": "python3"
  },
  "language_info": {
   "codemirror_mode": {
    "name": "ipython",
    "version": 3
   },
   "file_extension": ".py",
   "mimetype": "text/x-python",
   "name": "python",
   "nbconvert_exporter": "python",
   "pygments_lexer": "ipython3",
   "version": "3.11.5"
  }
 },
 "nbformat": 4,
 "nbformat_minor": 5
}
